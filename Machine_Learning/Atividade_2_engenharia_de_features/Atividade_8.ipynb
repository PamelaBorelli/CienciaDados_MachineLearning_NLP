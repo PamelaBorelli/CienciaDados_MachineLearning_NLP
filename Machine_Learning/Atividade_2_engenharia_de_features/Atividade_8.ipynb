{
 "cells": [
  {
   "cell_type": "code",
   "execution_count": 43,
   "id": "f1f90a40",
   "metadata": {},
   "outputs": [],
   "source": [
    "import pandas as pd\n",
    "import csv\n",
    "import matplotlib.pyplot as plt\n",
    "import numpy as np\n",
    "import sklearn as skl\n",
    "from sklearn.metrics import accuracy_score, classification_report\n",
    "from sklearn.model_selection import train_test_split, cross_val_score\n",
    "from sklearn.metrics import accuracy_score, precision_score, confusion_matrix\n",
    "from sklearn.neighbors import KNeighborsClassifier\n",
    "from sklearn.feature_selection import VarianceThreshold, SelectKBest, f_classif\n",
    "from sklearn.preprocessing import OneHotEncoder\n",
    "from sklearn.linear_model import LogisticRegression\n",
    "from sklearn.decomposition import PCA\n",
    "import warnings\n",
    "warnings.filterwarnings('ignore')"
   ]
  },
  {
   "cell_type": "markdown",
   "id": "2f84a755",
   "metadata": {},
   "source": [
    "# Atividade 8"
   ]
  },
  {
   "cell_type": "code",
   "execution_count": 44,
   "id": "3312c75b",
   "metadata": {},
   "outputs": [],
   "source": [
    "## importando a base de dados\n",
    "base = pd.read_csv(\"ionosphere-1.data\")"
   ]
  },
  {
   "cell_type": "code",
   "execution_count": 45,
   "id": "696224fd",
   "metadata": {},
   "outputs": [],
   "source": [
    "## criando o cabeçalho e trocando os valores do coluna 34\n",
    "base2 = pd.read_csv(\"ionosphere-1.data\", header = None)\n",
    "base2[34].replace({\"g\":1}, inplace =True)\n",
    "base2[34].replace({\"b\":0}, inplace =True)"
   ]
  },
  {
   "cell_type": "code",
   "execution_count": 46,
   "id": "64d04595",
   "metadata": {},
   "outputs": [
    {
     "data": {
      "text/html": [
       "<style>#sk-container-id-4 {color: black;background-color: white;}#sk-container-id-4 pre{padding: 0;}#sk-container-id-4 div.sk-toggleable {background-color: white;}#sk-container-id-4 label.sk-toggleable__label {cursor: pointer;display: block;width: 100%;margin-bottom: 0;padding: 0.3em;box-sizing: border-box;text-align: center;}#sk-container-id-4 label.sk-toggleable__label-arrow:before {content: \"▸\";float: left;margin-right: 0.25em;color: #696969;}#sk-container-id-4 label.sk-toggleable__label-arrow:hover:before {color: black;}#sk-container-id-4 div.sk-estimator:hover label.sk-toggleable__label-arrow:before {color: black;}#sk-container-id-4 div.sk-toggleable__content {max-height: 0;max-width: 0;overflow: hidden;text-align: left;background-color: #f0f8ff;}#sk-container-id-4 div.sk-toggleable__content pre {margin: 0.2em;color: black;border-radius: 0.25em;background-color: #f0f8ff;}#sk-container-id-4 input.sk-toggleable__control:checked~div.sk-toggleable__content {max-height: 200px;max-width: 100%;overflow: auto;}#sk-container-id-4 input.sk-toggleable__control:checked~label.sk-toggleable__label-arrow:before {content: \"▾\";}#sk-container-id-4 div.sk-estimator input.sk-toggleable__control:checked~label.sk-toggleable__label {background-color: #d4ebff;}#sk-container-id-4 div.sk-label input.sk-toggleable__control:checked~label.sk-toggleable__label {background-color: #d4ebff;}#sk-container-id-4 input.sk-hidden--visually {border: 0;clip: rect(1px 1px 1px 1px);clip: rect(1px, 1px, 1px, 1px);height: 1px;margin: -1px;overflow: hidden;padding: 0;position: absolute;width: 1px;}#sk-container-id-4 div.sk-estimator {font-family: monospace;background-color: #f0f8ff;border: 1px dotted black;border-radius: 0.25em;box-sizing: border-box;margin-bottom: 0.5em;}#sk-container-id-4 div.sk-estimator:hover {background-color: #d4ebff;}#sk-container-id-4 div.sk-parallel-item::after {content: \"\";width: 100%;border-bottom: 1px solid gray;flex-grow: 1;}#sk-container-id-4 div.sk-label:hover label.sk-toggleable__label {background-color: #d4ebff;}#sk-container-id-4 div.sk-serial::before {content: \"\";position: absolute;border-left: 1px solid gray;box-sizing: border-box;top: 0;bottom: 0;left: 50%;z-index: 0;}#sk-container-id-4 div.sk-serial {display: flex;flex-direction: column;align-items: center;background-color: white;padding-right: 0.2em;padding-left: 0.2em;position: relative;}#sk-container-id-4 div.sk-item {position: relative;z-index: 1;}#sk-container-id-4 div.sk-parallel {display: flex;align-items: stretch;justify-content: center;background-color: white;position: relative;}#sk-container-id-4 div.sk-item::before, #sk-container-id-4 div.sk-parallel-item::before {content: \"\";position: absolute;border-left: 1px solid gray;box-sizing: border-box;top: 0;bottom: 0;left: 50%;z-index: -1;}#sk-container-id-4 div.sk-parallel-item {display: flex;flex-direction: column;z-index: 1;position: relative;background-color: white;}#sk-container-id-4 div.sk-parallel-item:first-child::after {align-self: flex-end;width: 50%;}#sk-container-id-4 div.sk-parallel-item:last-child::after {align-self: flex-start;width: 50%;}#sk-container-id-4 div.sk-parallel-item:only-child::after {width: 0;}#sk-container-id-4 div.sk-dashed-wrapped {border: 1px dashed gray;margin: 0 0.4em 0.5em 0.4em;box-sizing: border-box;padding-bottom: 0.4em;background-color: white;}#sk-container-id-4 div.sk-label label {font-family: monospace;font-weight: bold;display: inline-block;line-height: 1.2em;}#sk-container-id-4 div.sk-label-container {text-align: center;}#sk-container-id-4 div.sk-container {/* jupyter's `normalize.less` sets `[hidden] { display: none; }` but bootstrap.min.css set `[hidden] { display: none !important; }` so we also need the `!important` here to be able to override the default hidden behavior on the sphinx rendered scikit-learn.org. See: https://github.com/scikit-learn/scikit-learn/issues/21755 */display: inline-block !important;position: relative;}#sk-container-id-4 div.sk-text-repr-fallback {display: none;}</style><div id=\"sk-container-id-4\" class=\"sk-top-container\"><div class=\"sk-text-repr-fallback\"><pre>KNeighborsClassifier(n_neighbors=2)</pre><b>In a Jupyter environment, please rerun this cell to show the HTML representation or trust the notebook. <br />On GitHub, the HTML representation is unable to render, please try loading this page with nbviewer.org.</b></div><div class=\"sk-container\" hidden><div class=\"sk-item\"><div class=\"sk-estimator sk-toggleable\"><input class=\"sk-toggleable__control sk-hidden--visually\" id=\"sk-estimator-id-4\" type=\"checkbox\" checked><label for=\"sk-estimator-id-4\" class=\"sk-toggleable__label sk-toggleable__label-arrow\">KNeighborsClassifier</label><div class=\"sk-toggleable__content\"><pre>KNeighborsClassifier(n_neighbors=2)</pre></div></div></div></div></div>"
      ],
      "text/plain": [
       "KNeighborsClassifier(n_neighbors=2)"
      ]
     },
     "execution_count": 46,
     "metadata": {},
     "output_type": "execute_result"
    }
   ],
   "source": [
    "X = base2[base2.columns[:-1]]\n",
    "y = base2[base2.columns[-1:]]\n",
    "\n",
    "    \n",
    "# Valores de k a serem testados\n",
    "k_values = np.arange(1, 120)\n",
    "\n",
    "# Lista para armazenar as acurácias médias\n",
    "mean_accuracies = []\n",
    "\n",
    "# Realizar a busca pelo melhor valor de k\n",
    "for k in k_values:\n",
    "    # Criar o modelo KNN\n",
    "    knn_model = KNeighborsClassifier(n_neighbors=k)\n",
    "    \n",
    "    # Calcular a acurácia média utilizando a validação cruzada\n",
    "    accuracies = cross_val_score(knn_model, X, y, cv=5)\n",
    "    mean_accuracy = np.mean(accuracies)\n",
    "    \n",
    "    # Armazenar a acurácia média na lista\n",
    "    mean_accuracies.append(mean_accuracy)\n",
    "    \n",
    "# Encontrar o melhor valor de k com base na acurácia média\n",
    "best_k = k_values[np.argmax(mean_accuracies)]\n",
    "best_accuracy = np.max(mean_accuracies)\n",
    "\n",
    "# Criar o modelo KNN com o melhor valor de k\n",
    "best_model = KNeighborsClassifier(n_neighbors=best_k)\n",
    "\n",
    "# Treinar o modelo\n",
    "best_model.fit(X, y)"
   ]
  },
  {
   "cell_type": "code",
   "execution_count": 47,
   "id": "2a23d911",
   "metadata": {},
   "outputs": [
    {
     "name": "stdout",
     "output_type": "stream",
     "text": [
      "Melhor valor de k: 2\n",
      "Acurácia média: 0.8718712273641852\n"
     ]
    }
   ],
   "source": [
    "print(f\"Melhor valor de k: {best_k}\")\n",
    "print(f\"Acurácia média: {best_accuracy}\")"
   ]
  },
  {
   "cell_type": "code",
   "execution_count": 48,
   "id": "9e51685d",
   "metadata": {},
   "outputs": [],
   "source": [
    "## Separando os dados em dados de treinamento e teste utilizando a proporção 70% e 30%, respectivamente, e random state = 0.\n",
    "X_train, X_test, y_train, y_test = train_test_split(X, y, test_size=0.3, random_state=0) "
   ]
  },
  {
   "cell_type": "code",
   "execution_count": 49,
   "id": "2ce2f94c",
   "metadata": {},
   "outputs": [],
   "source": [
    "## modelo de predição\n",
    "y_pred = best_model.predict(X_test) "
   ]
  },
  {
   "cell_type": "code",
   "execution_count": 50,
   "id": "bb691c93",
   "metadata": {},
   "outputs": [
    {
     "name": "stdout",
     "output_type": "stream",
     "text": [
      "Acurácia do modelo: 100.00%\n"
     ]
    }
   ],
   "source": [
    "## Realizando a classificação e obtendo os seguintes resultados: Acurácia, Precisão, Recall, F1-Score\n",
    "#print(\"Acurácia: : \", accuracy_score(y_test, y_pred)*100)\n",
    "acc = accuracy_score(y_test, y_pred)*100 # calcular a acurácia do modelo\n",
    "print(f\"Acurácia do modelo: {acc:.2f}%\")"
   ]
  },
  {
   "cell_type": "code",
   "execution_count": 51,
   "id": "8d7f0a19",
   "metadata": {},
   "outputs": [
    {
     "name": "stdout",
     "output_type": "stream",
     "text": [
      "              precision    recall  f1-score   support\n",
      "\n",
      "           0       1.00      1.00      1.00        44\n",
      "           1       1.00      1.00      1.00        62\n",
      "\n",
      "    accuracy                           1.00       106\n",
      "   macro avg       1.00      1.00      1.00       106\n",
      "weighted avg       1.00      1.00      1.00       106\n",
      "\n"
     ]
    }
   ],
   "source": [
    "print(classification_report(y_test, y_pred))"
   ]
  },
  {
   "cell_type": "code",
   "execution_count": 52,
   "id": "7672e8f6",
   "metadata": {},
   "outputs": [
    {
     "data": {
      "image/png": "[encoded data removed]",
      "text/plain": [
       "<Figure size 640x480 with 2 Axes>"
      ]
     },
     "metadata": {},
     "output_type": "display_data"
    }
   ],
   "source": [
    "## Plotando a matriz de confusão\n",
    "conf_matrix = confusion_matrix(y_test, y_pred)\n",
    "plt.imshow(conf_matrix, cmap='Blues', interpolation='nearest')\n",
    "plt.title('Matriz de Confusão')\n",
    "plt.colorbar()\n",
    "plt.xticks([0, 1], ['Negativo', 'Positivo'])\n",
    "plt.yticks([0, 1], ['Negativo', 'Positivo'])\n",
    "plt.xlabel('Previsão')\n",
    "plt.ylabel('Real')\n",
    "for i, j in np.ndindex(conf_matrix.shape):\n",
    "    plt.text(j, i, conf_matrix[i, j], ha='center', va='center', color='black')\n",
    "plt.show()"
   ]
  },
  {
   "cell_type": "code",
   "execution_count": null,
   "id": "90c93e05",
   "metadata": {},
   "outputs": [],
   "source": []
  }
 ],
 "metadata": {
  "kernelspec": {
   "display_name": "Python 3 (ipykernel)",
   "language": "python",
   "name": "python3"
  },
  "language_info": {
   "codemirror_mode": {
    "name": "ipython",
    "version": 3
   },
   "file_extension": ".py",
   "mimetype": "text/x-python",
   "name": "python",
   "nbconvert_exporter": "python",
   "pygments_lexer": "ipython3",
   "version": "3.10.9"
  }
 },
 "nbformat": 4,
 "nbformat_minor": 5
}
