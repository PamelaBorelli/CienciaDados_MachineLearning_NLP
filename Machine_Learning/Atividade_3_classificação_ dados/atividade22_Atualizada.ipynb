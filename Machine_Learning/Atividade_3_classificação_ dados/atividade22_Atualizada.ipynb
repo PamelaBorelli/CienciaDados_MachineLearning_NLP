{
  "nbformat": 4,
  "nbformat_minor": 0,
  "metadata": {
    "colab": {
      "provenance": []
    },
    "kernelspec": {
      "name": "python3",
      "display_name": "Python 3"
    },
    "language_info": {
      "name": "python"
    }
  },
  "cells": [
    {
      "cell_type": "code",
      "execution_count": 90,
      "metadata": {
        "id": "OBT_dYky4v2g"
      },
      "outputs": [],
      "source": [
        "# Importe as bibliotecas necessárias: pandas, numpy, torch, torchvision, etc.\n",
        "import csv\n",
        "import torch\n",
        "import torch.nn as nn\n",
        "import torch.optim as optim\n",
        "import torch.nn.functional as F\n",
        "import torchvision\n",
        "import numpy as np\n",
        "import pandas as pd\n",
        "import matplotlib.pyplot as plt\n",
        "import plotly.express as px\n",
        "\n",
        "from sklearn.model_selection import train_test_split\n",
        "from sklearn.preprocessing import StandardScaler\n",
        "from sklearn.metrics import confusion_matrix, precision_score, recall_score, f1_score, accuracy_score, classification_report\n",
        "from torch.utils.data import DataLoader, Dataset, random_split"
      ]
    },
    {
      "cell_type": "code",
      "source": [
        "# Faça a importação do conjunto de dados a partir do dataset fornecido.\n",
        "df = pd.read_csv('Best Songs on Spotify from 2000-2023.csv', delimiter=';')\n",
        "dft = pd.read_csv('Best Songs on Spotify from 2000-2023.csv', delimiter=';')\n"
      ],
      "metadata": {
        "id": "BfFDd2vS5iLZ"
      },
      "execution_count": 91,
      "outputs": []
    },
    {
      "cell_type": "code",
      "source": [
        "df.columns"
      ],
      "metadata": {
        "colab": {
          "base_uri": "https://localhost:8080/"
        },
        "id": "J0xNwpCMzsvD",
        "outputId": "c9331260-83b3-445d-84c5-7d65d052c61b"
      },
      "execution_count": 92,
      "outputs": [
        {
          "output_type": "execute_result",
          "data": {
            "text/plain": [
              "Index(['title', 'artist', 'top genre', 'year', 'bpm', 'energy',\n",
              "       'danceability ', 'dB', 'liveness', 'valence', 'duration',\n",
              "       'acousticness', 'speechiness ', 'popularity'],\n",
              "      dtype='object')"
            ]
          },
          "metadata": {},
          "execution_count": 92
        }
      ]
    },
    {
      "cell_type": "code",
      "source": [
        "# Printando algumas informações sobre o dataset\n",
        "print(f'Shape do dataset: {df.shape}')\n",
        "print('\\n')\n",
        "print(f'Número de valores NaNs: \\n{df.isna().sum()}')"
      ],
      "metadata": {
        "colab": {
          "base_uri": "https://localhost:8080/"
        },
        "id": "lfeNWGig5o0Y",
        "outputId": "1260d3fe-d2d4-42f1-87a8-1dabc3545864"
      },
      "execution_count": 93,
      "outputs": [
        {
          "output_type": "stream",
          "name": "stdout",
          "text": [
            "Shape do dataset: (2385, 14)\n",
            "\n",
            "\n",
            "Número de valores NaNs: \n",
            "title            0\n",
            "artist           0\n",
            "top genre        0\n",
            "year             0\n",
            "bpm              0\n",
            "energy           0\n",
            "danceability     0\n",
            "dB               0\n",
            "liveness         0\n",
            "valence          0\n",
            "duration         0\n",
            "acousticness     0\n",
            "speechiness      0\n",
            "popularity       0\n",
            "dtype: int64\n"
          ]
        }
      ]
    },
    {
      "cell_type": "code",
      "source": [
        "df.info()"
      ],
      "metadata": {
        "colab": {
          "base_uri": "https://localhost:8080/"
        },
        "id": "z_qnuZlJJctJ",
        "outputId": "e0a410bb-9999-4998-aa91-d93870a59e7d"
      },
      "execution_count": 94,
      "outputs": [
        {
          "output_type": "stream",
          "name": "stdout",
          "text": [
            "<class 'pandas.core.frame.DataFrame'>\n",
            "RangeIndex: 2385 entries, 0 to 2384\n",
            "Data columns (total 14 columns):\n",
            " #   Column         Non-Null Count  Dtype \n",
            "---  ------         --------------  ----- \n",
            " 0   title          2385 non-null   object\n",
            " 1   artist         2385 non-null   object\n",
            " 2   top genre      2385 non-null   object\n",
            " 3   year           2385 non-null   int64 \n",
            " 4   bpm            2385 non-null   int64 \n",
            " 5   energy         2385 non-null   int64 \n",
            " 6   danceability   2385 non-null   int64 \n",
            " 7   dB             2385 non-null   int64 \n",
            " 8   liveness       2385 non-null   int64 \n",
            " 9   valence        2385 non-null   int64 \n",
            " 10  duration       2385 non-null   int64 \n",
            " 11  acousticness   2385 non-null   int64 \n",
            " 12  speechiness    2385 non-null   int64 \n",
            " 13  popularity     2385 non-null   int64 \n",
            "dtypes: int64(11), object(3)\n",
            "memory usage: 261.0+ KB\n"
          ]
        }
      ]
    },
    {
      "cell_type": "code",
      "source": [
        "from sklearn.feature_selection import RFE\n",
        "from sklearn.linear_model import LogisticRegression\n",
        "from sklearn.datasets import make_classification\n",
        "\n",
        "# Gerando um conjunto de dados de exemplo\n",
        "X, y = make_classification(n_samples=300, n_features=13, random_state=0)\n",
        "\n",
        "# Criando um estimador/modelo\n",
        "estimator = LogisticRegression()\n",
        "\n",
        "# Criando o seletor de features RFE\n",
        "rfe = RFE(estimator, n_features_to_select=8)\n",
        "\n",
        "# Realizando a seleção de features\n",
        "X_selected = rfe.fit_transform(X, y)\n",
        "\n",
        "# Obtendo as features selecionadas\n",
        "selected_features = rfe.support_\n",
        "feature_ranking = rfe.ranking_\n",
        "\n",
        "print(\"Features selecionadas:\")\n",
        "for feature, selected in enumerate(selected_features):\n",
        "    if selected:\n",
        "        print(f\"Feature {feature+1}\")\n",
        "\n",
        "print(\"\\nRanking das features:\")\n",
        "for feature, rank in enumerate(feature_ranking):\n",
        "    print(f\"Feature {feature+1}: {rank}\")"
      ],
      "metadata": {
        "colab": {
          "base_uri": "https://localhost:8080/"
        },
        "id": "-RgMyaSpfVgG",
        "outputId": "e6798c01-dfa2-489e-b7d2-aed9cb0dd365"
      },
      "execution_count": 95,
      "outputs": [
        {
          "output_type": "stream",
          "name": "stdout",
          "text": [
            "Features selecionadas:\n",
            "Feature 1\n",
            "Feature 2\n",
            "Feature 3\n",
            "Feature 8\n",
            "Feature 9\n",
            "Feature 10\n",
            "Feature 11\n",
            "Feature 13\n",
            "\n",
            "Ranking das features:\n",
            "Feature 1: 1\n",
            "Feature 2: 1\n",
            "Feature 3: 1\n",
            "Feature 4: 5\n",
            "Feature 5: 3\n",
            "Feature 6: 6\n",
            "Feature 7: 2\n",
            "Feature 8: 1\n",
            "Feature 9: 1\n",
            "Feature 10: 1\n",
            "Feature 11: 1\n",
            "Feature 12: 4\n",
            "Feature 13: 1\n"
          ]
        }
      ]
    },
    {
      "cell_type": "code",
      "source": [
        "# Realize o pré-processamento necessário no conjunto de dados, incluindo a \n",
        "# categorização dos valores da coluna \"popularity\" \n",
        "# em três classes (0, 1 e 2) usando a função pd.cut.\n",
        "dft[\"popularity\"]=pd.cut(dft[\"popularity\"],\n",
        "                              bins = [0,50,75,100],\n",
        "                              labels = [0,1,2],include_lowest=True)\n",
        "print('Porcentagem correspondente a cada label (2= mais popular e 0 = menos popular)')\n",
        "dft[\"popularity\"].value_counts(dropna=False,normalize=True)*100"
      ],
      "metadata": {
        "colab": {
          "base_uri": "https://localhost:8080/"
        },
        "id": "HC0feJ9Y6J0B",
        "outputId": "6833d5fa-3332-457e-95b5-329d41b454a7"
      },
      "execution_count": 96,
      "outputs": [
        {
          "output_type": "stream",
          "name": "stdout",
          "text": [
            "Porcentagem correspondente a cada label (2= mais popular e 0 = menos popular)\n"
          ]
        },
        {
          "output_type": "execute_result",
          "data": {
            "text/plain": [
              "1    58.448637\n",
              "2    36.477987\n",
              "0     5.073375\n",
              "Name: popularity, dtype: float64"
            ]
          },
          "metadata": {},
          "execution_count": 96
        }
      ]
    },
    {
      "cell_type": "code",
      "source": [
        "# Realize a codificação one-hot das colunas \"artist\" e \"top genre\" usando a função onehot_encode.\n",
        "def onehot_encode(df, column, prefix):\n",
        "  data = df.copy()\n",
        "  dummies = pd.get_dummies(data[column], prefix=prefix)\n",
        "  data = pd.concat([data, dummies], axis=1)\n",
        "  data = data.drop(column, axis=1)\n",
        "  return data\n",
        "\n",
        "df = onehot_encode(df, 'artist', 'a')\n",
        "df = onehot_encode(df, 'top genre', 'g')"
      ],
      "metadata": {
        "id": "iMb_LWlq6Q1g"
      },
      "execution_count": 97,
      "outputs": []
    },
    {
      "cell_type": "code",
      "source": [
        "# Converta os dados para tensores do PyTorch.\n",
        "df=df.drop(['title', 'popularity'], axis=1)\n",
        "dft=dft.drop(['title','artist','top genre','bpm','energy', 'dB','liveness','valence', 'acousticness'] ,axis=1)\n",
        "dft=dft.drop(['danceability ','duration','speechiness ', 'year'], axis=1)\n",
        "\n",
        "# Features target, e selecionadas\n",
        "dft.to_csv('target_csv.csv', sep=',', index=False, encoding='utf-8', errors=\"ignore\")\n",
        "df.to_csv(\"new_csv.csv\", sep=',', index=False, encoding='utf-8', errors=\"ignore\")\n",
        "\n",
        "song_numpy = np.loadtxt('new_csv.csv', dtype= np.float32, delimiter=\",\", skiprows=1)\n",
        "target_numpy = np.loadtxt('target_csv.csv', dtype= np.float32, delimiter=\",\", skiprows=1)\n",
        "\n",
        "songs_py = torch.from_numpy(song_numpy)\n",
        "target_py = torch.from_numpy(target_numpy)\n",
        "\n",
        "# Crie uma classe CTDataset que herda torch.utils.data.Dataset e implemente \n",
        "## os métodos init, len e getitem para representar o conjunto de dados.\n",
        "\n",
        "class CTDataset(Dataset):\n",
        "  def __init__(self, songs, popularity):\n",
        "    self.x = songs\n",
        "    self.y = popularity\n",
        "  def __len__(self):\n",
        "    return self.x.shape[0]\n",
        "  def __getitem__(self, ix):\n",
        "    return self.x[ix], self.y[ix]\n",
        "\n",
        "Dataset = CTDataset(songs_py, target_py)\n",
        "len(Dataset)"
      ],
      "metadata": {
        "colab": {
          "base_uri": "https://localhost:8080/"
        },
        "id": "MsfQhHwv9dLA",
        "outputId": "0330dc78-dae8-4072-af98-4ae8680ad632"
      },
      "execution_count": 98,
      "outputs": [
        {
          "output_type": "execute_result",
          "data": {
            "text/plain": [
              "2385"
            ]
          },
          "metadata": {},
          "execution_count": 98
        }
      ]
    },
    {
      "cell_type": "code",
      "source": [
        "## feature selecionada como target\n",
        "dft.head()"
      ],
      "metadata": {
        "colab": {
          "base_uri": "https://localhost:8080/",
          "height": 206
        },
        "id": "rjMvJ-6ChpFz",
        "outputId": "79822270-b1f7-486e-8fa1-5dcbdf320e06"
      },
      "execution_count": 99,
      "outputs": [
        {
          "output_type": "execute_result",
          "data": {
            "text/plain": [
              "  popularity\n",
              "0          2\n",
              "1          2\n",
              "2          2\n",
              "3          2\n",
              "4          2"
            ],
            "text/html": [
              "\n",
              "  <div id=\"df-2997a041-eaa3-4320-9991-ef09c98446c7\">\n",
              "    <div class=\"colab-df-container\">\n",
              "      <div>\n",
              "<style scoped>\n",
              "    .dataframe tbody tr th:only-of-type {\n",
              "        vertical-align: middle;\n",
              "    }\n",
              "\n",
              "    .dataframe tbody tr th {\n",
              "        vertical-align: top;\n",
              "    }\n",
              "\n",
              "    .dataframe thead th {\n",
              "        text-align: right;\n",
              "    }\n",
              "</style>\n",
              "<table border=\"1\" class=\"dataframe\">\n",
              "  <thead>\n",
              "    <tr style=\"text-align: right;\">\n",
              "      <th></th>\n",
              "      <th>popularity</th>\n",
              "    </tr>\n",
              "  </thead>\n",
              "  <tbody>\n",
              "    <tr>\n",
              "      <th>0</th>\n",
              "      <td>2</td>\n",
              "    </tr>\n",
              "    <tr>\n",
              "      <th>1</th>\n",
              "      <td>2</td>\n",
              "    </tr>\n",
              "    <tr>\n",
              "      <th>2</th>\n",
              "      <td>2</td>\n",
              "    </tr>\n",
              "    <tr>\n",
              "      <th>3</th>\n",
              "      <td>2</td>\n",
              "    </tr>\n",
              "    <tr>\n",
              "      <th>4</th>\n",
              "      <td>2</td>\n",
              "    </tr>\n",
              "  </tbody>\n",
              "</table>\n",
              "</div>\n",
              "      <button class=\"colab-df-convert\" onclick=\"convertToInteractive('df-2997a041-eaa3-4320-9991-ef09c98446c7')\"\n",
              "              title=\"Convert this dataframe to an interactive table.\"\n",
              "              style=\"display:none;\">\n",
              "        \n",
              "  <svg xmlns=\"http://www.w3.org/2000/svg\" height=\"24px\"viewBox=\"0 0 24 24\"\n",
              "       width=\"24px\">\n",
              "    <path d=\"M0 0h24v24H0V0z\" fill=\"none\"/>\n",
              "    <path d=\"M18.56 5.44l.94 2.06.94-2.06 2.06-.94-2.06-.94-.94-2.06-.94 2.06-2.06.94zm-11 1L8.5 8.5l.94-2.06 2.06-.94-2.06-.94L8.5 2.5l-.94 2.06-2.06.94zm10 10l.94 2.06.94-2.06 2.06-.94-2.06-.94-.94-2.06-.94 2.06-2.06.94z\"/><path d=\"M17.41 7.96l-1.37-1.37c-.4-.4-.92-.59-1.43-.59-.52 0-1.04.2-1.43.59L10.3 9.45l-7.72 7.72c-.78.78-.78 2.05 0 2.83L4 21.41c.39.39.9.59 1.41.59.51 0 1.02-.2 1.41-.59l7.78-7.78 2.81-2.81c.8-.78.8-2.07 0-2.86zM5.41 20L4 18.59l7.72-7.72 1.47 1.35L5.41 20z\"/>\n",
              "  </svg>\n",
              "      </button>\n",
              "      \n",
              "  <style>\n",
              "    .colab-df-container {\n",
              "      display:flex;\n",
              "      flex-wrap:wrap;\n",
              "      gap: 12px;\n",
              "    }\n",
              "\n",
              "    .colab-df-convert {\n",
              "      background-color: #E8F0FE;\n",
              "      border: none;\n",
              "      border-radius: 50%;\n",
              "      cursor: pointer;\n",
              "      display: none;\n",
              "      fill: #1967D2;\n",
              "      height: 32px;\n",
              "      padding: 0 0 0 0;\n",
              "      width: 32px;\n",
              "    }\n",
              "\n",
              "    .colab-df-convert:hover {\n",
              "      background-color: #E2EBFA;\n",
              "      box-shadow: 0px 1px 2px rgba(60, 64, 67, 0.3), 0px 1px 3px 1px rgba(60, 64, 67, 0.15);\n",
              "      fill: #174EA6;\n",
              "    }\n",
              "\n",
              "    [theme=dark] .colab-df-convert {\n",
              "      background-color: #3B4455;\n",
              "      fill: #D2E3FC;\n",
              "    }\n",
              "\n",
              "    [theme=dark] .colab-df-convert:hover {\n",
              "      background-color: #434B5C;\n",
              "      box-shadow: 0px 1px 3px 1px rgba(0, 0, 0, 0.15);\n",
              "      filter: drop-shadow(0px 1px 2px rgba(0, 0, 0, 0.3));\n",
              "      fill: #FFFFFF;\n",
              "    }\n",
              "  </style>\n",
              "\n",
              "      <script>\n",
              "        const buttonEl =\n",
              "          document.querySelector('#df-2997a041-eaa3-4320-9991-ef09c98446c7 button.colab-df-convert');\n",
              "        buttonEl.style.display =\n",
              "          google.colab.kernel.accessAllowed ? 'block' : 'none';\n",
              "\n",
              "        async function convertToInteractive(key) {\n",
              "          const element = document.querySelector('#df-2997a041-eaa3-4320-9991-ef09c98446c7');\n",
              "          const dataTable =\n",
              "            await google.colab.kernel.invokeFunction('convertToInteractive',\n",
              "                                                     [key], {});\n",
              "          if (!dataTable) return;\n",
              "\n",
              "          const docLinkHtml = 'Like what you see? Visit the ' +\n",
              "            '<a target=\"_blank\" href=https://colab.research.google.com/notebooks/data_table.ipynb>data table notebook</a>'\n",
              "            + ' to learn more about interactive tables.';\n",
              "          element.innerHTML = '';\n",
              "          dataTable['output_type'] = 'display_data';\n",
              "          await google.colab.output.renderOutput(dataTable, element);\n",
              "          const docLink = document.createElement('div');\n",
              "          docLink.innerHTML = docLinkHtml;\n",
              "          element.appendChild(docLink);\n",
              "        }\n",
              "      </script>\n",
              "    </div>\n",
              "  </div>\n",
              "  "
            ]
          },
          "metadata": {},
          "execution_count": 99
        }
      ]
    },
    {
      "cell_type": "code",
      "source": [
        "## features selecionadas para o algoritmo\n",
        "df.head()"
      ],
      "metadata": {
        "colab": {
          "base_uri": "https://localhost:8080/",
          "height": 334
        },
        "id": "bgI-zYwTjzik",
        "outputId": "cbbf4477-4200-40db-9cbf-694b017772b1"
      },
      "execution_count": 100,
      "outputs": [
        {
          "output_type": "execute_result",
          "data": {
            "text/plain": [
              "   year  bpm  energy  danceability   dB  liveness  valence  duration  \\\n",
              "0  2023  118      68             71  -4         3       65       200   \n",
              "1  2023  120      59             78  -8        35       73       174   \n",
              "2  2023   95      64             77  -7        17       53       195   \n",
              "3  2023  133      81             70  -8        25       86       131   \n",
              "4  2022   98      62             72  -6         8       17       222   \n",
              "\n",
              "   acousticness  speechiness   ...  g_uk alternative pop  \\\n",
              "0             6             7  ...                     0   \n",
              "1            44             3  ...                     0   \n",
              "2            74            14  ...                     0   \n",
              "3            25             5  ...                     0   \n",
              "4            42             5  ...                     0   \n",
              "\n",
              "   g_uk contemporary r&b  g_uk dance  g_uk garage  g_uk hip hop  g_uk pop  \\\n",
              "0                      0           0            0             0         0   \n",
              "1                      0           0            0             0         0   \n",
              "2                      0           0            0             0         0   \n",
              "3                      0           0            0             0         0   \n",
              "4                      0           0            0             0         0   \n",
              "\n",
              "   g_viral pop  g_viral rap  g_viral trap  g_vocal house  \n",
              "0            0            0             0              0  \n",
              "1            0            0             0              0  \n",
              "2            0            0             0              0  \n",
              "3            0            0             0              0  \n",
              "4            0            0             0              0  \n",
              "\n",
              "[5 rows x 1290 columns]"
            ],
            "text/html": [
              "\n",
              "  <div id=\"df-442bd57c-3a92-46e4-a19e-9fe6793bc537\">\n",
              "    <div class=\"colab-df-container\">\n",
              "      <div>\n",
              "<style scoped>\n",
              "    .dataframe tbody tr th:only-of-type {\n",
              "        vertical-align: middle;\n",
              "    }\n",
              "\n",
              "    .dataframe tbody tr th {\n",
              "        vertical-align: top;\n",
              "    }\n",
              "\n",
              "    .dataframe thead th {\n",
              "        text-align: right;\n",
              "    }\n",
              "</style>\n",
              "<table border=\"1\" class=\"dataframe\">\n",
              "  <thead>\n",
              "    <tr style=\"text-align: right;\">\n",
              "      <th></th>\n",
              "      <th>year</th>\n",
              "      <th>bpm</th>\n",
              "      <th>energy</th>\n",
              "      <th>danceability</th>\n",
              "      <th>dB</th>\n",
              "      <th>liveness</th>\n",
              "      <th>valence</th>\n",
              "      <th>duration</th>\n",
              "      <th>acousticness</th>\n",
              "      <th>speechiness</th>\n",
              "      <th>...</th>\n",
              "      <th>g_uk alternative pop</th>\n",
              "      <th>g_uk contemporary r&amp;b</th>\n",
              "      <th>g_uk dance</th>\n",
              "      <th>g_uk garage</th>\n",
              "      <th>g_uk hip hop</th>\n",
              "      <th>g_uk pop</th>\n",
              "      <th>g_viral pop</th>\n",
              "      <th>g_viral rap</th>\n",
              "      <th>g_viral trap</th>\n",
              "      <th>g_vocal house</th>\n",
              "    </tr>\n",
              "  </thead>\n",
              "  <tbody>\n",
              "    <tr>\n",
              "      <th>0</th>\n",
              "      <td>2023</td>\n",
              "      <td>118</td>\n",
              "      <td>68</td>\n",
              "      <td>71</td>\n",
              "      <td>-4</td>\n",
              "      <td>3</td>\n",
              "      <td>65</td>\n",
              "      <td>200</td>\n",
              "      <td>6</td>\n",
              "      <td>7</td>\n",
              "      <td>...</td>\n",
              "      <td>0</td>\n",
              "      <td>0</td>\n",
              "      <td>0</td>\n",
              "      <td>0</td>\n",
              "      <td>0</td>\n",
              "      <td>0</td>\n",
              "      <td>0</td>\n",
              "      <td>0</td>\n",
              "      <td>0</td>\n",
              "      <td>0</td>\n",
              "    </tr>\n",
              "    <tr>\n",
              "      <th>1</th>\n",
              "      <td>2023</td>\n",
              "      <td>120</td>\n",
              "      <td>59</td>\n",
              "      <td>78</td>\n",
              "      <td>-8</td>\n",
              "      <td>35</td>\n",
              "      <td>73</td>\n",
              "      <td>174</td>\n",
              "      <td>44</td>\n",
              "      <td>3</td>\n",
              "      <td>...</td>\n",
              "      <td>0</td>\n",
              "      <td>0</td>\n",
              "      <td>0</td>\n",
              "      <td>0</td>\n",
              "      <td>0</td>\n",
              "      <td>0</td>\n",
              "      <td>0</td>\n",
              "      <td>0</td>\n",
              "      <td>0</td>\n",
              "      <td>0</td>\n",
              "    </tr>\n",
              "    <tr>\n",
              "      <th>2</th>\n",
              "      <td>2023</td>\n",
              "      <td>95</td>\n",
              "      <td>64</td>\n",
              "      <td>77</td>\n",
              "      <td>-7</td>\n",
              "      <td>17</td>\n",
              "      <td>53</td>\n",
              "      <td>195</td>\n",
              "      <td>74</td>\n",
              "      <td>14</td>\n",
              "      <td>...</td>\n",
              "      <td>0</td>\n",
              "      <td>0</td>\n",
              "      <td>0</td>\n",
              "      <td>0</td>\n",
              "      <td>0</td>\n",
              "      <td>0</td>\n",
              "      <td>0</td>\n",
              "      <td>0</td>\n",
              "      <td>0</td>\n",
              "      <td>0</td>\n",
              "    </tr>\n",
              "    <tr>\n",
              "      <th>3</th>\n",
              "      <td>2023</td>\n",
              "      <td>133</td>\n",
              "      <td>81</td>\n",
              "      <td>70</td>\n",
              "      <td>-8</td>\n",
              "      <td>25</td>\n",
              "      <td>86</td>\n",
              "      <td>131</td>\n",
              "      <td>25</td>\n",
              "      <td>5</td>\n",
              "      <td>...</td>\n",
              "      <td>0</td>\n",
              "      <td>0</td>\n",
              "      <td>0</td>\n",
              "      <td>0</td>\n",
              "      <td>0</td>\n",
              "      <td>0</td>\n",
              "      <td>0</td>\n",
              "      <td>0</td>\n",
              "      <td>0</td>\n",
              "      <td>0</td>\n",
              "    </tr>\n",
              "    <tr>\n",
              "      <th>4</th>\n",
              "      <td>2022</td>\n",
              "      <td>98</td>\n",
              "      <td>62</td>\n",
              "      <td>72</td>\n",
              "      <td>-6</td>\n",
              "      <td>8</td>\n",
              "      <td>17</td>\n",
              "      <td>222</td>\n",
              "      <td>42</td>\n",
              "      <td>5</td>\n",
              "      <td>...</td>\n",
              "      <td>0</td>\n",
              "      <td>0</td>\n",
              "      <td>0</td>\n",
              "      <td>0</td>\n",
              "      <td>0</td>\n",
              "      <td>0</td>\n",
              "      <td>0</td>\n",
              "      <td>0</td>\n",
              "      <td>0</td>\n",
              "      <td>0</td>\n",
              "    </tr>\n",
              "  </tbody>\n",
              "</table>\n",
              "<p>5 rows × 1290 columns</p>\n",
              "</div>\n",
              "      <button class=\"colab-df-convert\" onclick=\"convertToInteractive('df-442bd57c-3a92-46e4-a19e-9fe6793bc537')\"\n",
              "              title=\"Convert this dataframe to an interactive table.\"\n",
              "              style=\"display:none;\">\n",
              "        \n",
              "  <svg xmlns=\"http://www.w3.org/2000/svg\" height=\"24px\"viewBox=\"0 0 24 24\"\n",
              "       width=\"24px\">\n",
              "    <path d=\"M0 0h24v24H0V0z\" fill=\"none\"/>\n",
              "    <path d=\"M18.56 5.44l.94 2.06.94-2.06 2.06-.94-2.06-.94-.94-2.06-.94 2.06-2.06.94zm-11 1L8.5 8.5l.94-2.06 2.06-.94-2.06-.94L8.5 2.5l-.94 2.06-2.06.94zm10 10l.94 2.06.94-2.06 2.06-.94-2.06-.94-.94-2.06-.94 2.06-2.06.94z\"/><path d=\"M17.41 7.96l-1.37-1.37c-.4-.4-.92-.59-1.43-.59-.52 0-1.04.2-1.43.59L10.3 9.45l-7.72 7.72c-.78.78-.78 2.05 0 2.83L4 21.41c.39.39.9.59 1.41.59.51 0 1.02-.2 1.41-.59l7.78-7.78 2.81-2.81c.8-.78.8-2.07 0-2.86zM5.41 20L4 18.59l7.72-7.72 1.47 1.35L5.41 20z\"/>\n",
              "  </svg>\n",
              "      </button>\n",
              "      \n",
              "  <style>\n",
              "    .colab-df-container {\n",
              "      display:flex;\n",
              "      flex-wrap:wrap;\n",
              "      gap: 12px;\n",
              "    }\n",
              "\n",
              "    .colab-df-convert {\n",
              "      background-color: #E8F0FE;\n",
              "      border: none;\n",
              "      border-radius: 50%;\n",
              "      cursor: pointer;\n",
              "      display: none;\n",
              "      fill: #1967D2;\n",
              "      height: 32px;\n",
              "      padding: 0 0 0 0;\n",
              "      width: 32px;\n",
              "    }\n",
              "\n",
              "    .colab-df-convert:hover {\n",
              "      background-color: #E2EBFA;\n",
              "      box-shadow: 0px 1px 2px rgba(60, 64, 67, 0.3), 0px 1px 3px 1px rgba(60, 64, 67, 0.15);\n",
              "      fill: #174EA6;\n",
              "    }\n",
              "\n",
              "    [theme=dark] .colab-df-convert {\n",
              "      background-color: #3B4455;\n",
              "      fill: #D2E3FC;\n",
              "    }\n",
              "\n",
              "    [theme=dark] .colab-df-convert:hover {\n",
              "      background-color: #434B5C;\n",
              "      box-shadow: 0px 1px 3px 1px rgba(0, 0, 0, 0.15);\n",
              "      filter: drop-shadow(0px 1px 2px rgba(0, 0, 0, 0.3));\n",
              "      fill: #FFFFFF;\n",
              "    }\n",
              "  </style>\n",
              "\n",
              "      <script>\n",
              "        const buttonEl =\n",
              "          document.querySelector('#df-442bd57c-3a92-46e4-a19e-9fe6793bc537 button.colab-df-convert');\n",
              "        buttonEl.style.display =\n",
              "          google.colab.kernel.accessAllowed ? 'block' : 'none';\n",
              "\n",
              "        async function convertToInteractive(key) {\n",
              "          const element = document.querySelector('#df-442bd57c-3a92-46e4-a19e-9fe6793bc537');\n",
              "          const dataTable =\n",
              "            await google.colab.kernel.invokeFunction('convertToInteractive',\n",
              "                                                     [key], {});\n",
              "          if (!dataTable) return;\n",
              "\n",
              "          const docLinkHtml = 'Like what you see? Visit the ' +\n",
              "            '<a target=\"_blank\" href=https://colab.research.google.com/notebooks/data_table.ipynb>data table notebook</a>'\n",
              "            + ' to learn more about interactive tables.';\n",
              "          element.innerHTML = '';\n",
              "          dataTable['output_type'] = 'display_data';\n",
              "          await google.colab.output.renderOutput(dataTable, element);\n",
              "          const docLink = document.createElement('div');\n",
              "          docLink.innerHTML = docLinkHtml;\n",
              "          element.appendChild(docLink);\n",
              "        }\n",
              "      </script>\n",
              "    </div>\n",
              "  </div>\n",
              "  "
            ]
          },
          "metadata": {},
          "execution_count": 100
        }
      ]
    },
    {
      "cell_type": "code",
      "source": [
        "## Divida o conjunto de dados em conjuntos de treinamento, validação e teste \n",
        "## usando a função random_split do PyTorch, de acordo com as proporções \n",
        "## especificadas.\n",
        "\n",
        "train_ratio = 0.7\n",
        "val_ratio = 0.1\n",
        "test_ratio = 0.2\n",
        "\n",
        "num_samples = len(Dataset)\n",
        "train_size = int(train_ratio * num_samples)\n",
        "val_size = int(val_ratio * num_samples)\n",
        "test_size = num_samples - train_size - val_size\n",
        "\n",
        "# Usando random_split \n",
        "train_dataset, val_dataset, test_dataset = random_split(Dataset, [train_size, val_size, test_size])\n",
        "\n",
        "# Crie carregadores de dados (DataLoader) para cada conjunto, com um \n",
        "## tamanho de lote (batch size) adequado.\n",
        "batch_size = 64\n",
        "\n",
        "train_loader = DataLoader(train_dataset, batch_size=batch_size, shuffle=True)\n",
        "val_loader = DataLoader(val_dataset, batch_size=batch_size, shuffle=False)\n",
        "test_loader = DataLoader(test_dataset, batch_size=batch_size, shuffle=False)\n",
        "\n",
        "len(train_loader)\n",
        "len(val_loader)\n",
        "len(test_loader)"
      ],
      "metadata": {
        "colab": {
          "base_uri": "https://localhost:8080/"
        },
        "id": "p1RxGt3_6bYo",
        "outputId": "eacb729f-9bd7-4d94-8598-0270a3fddcee"
      },
      "execution_count": 101,
      "outputs": [
        {
          "output_type": "execute_result",
          "data": {
            "text/plain": [
              "8"
            ]
          },
          "metadata": {},
          "execution_count": 101
        }
      ]
    },
    {
      "cell_type": "code",
      "source": [
        "# Defina a arquitetura da rede neural no PyTorch, incluindo as \n",
        "# camadas Linear necessárias.\n",
        "\n",
        "class NeuralNet(nn.Module):\n",
        "    def __init__(self):\n",
        "        super(NeuralNet, self).__init__()\n",
        "        self.fc1 = nn.Linear(1290, 640)\n",
        "        self.fc2 = nn.Linear(640, 320)\n",
        "        self.fc3 = nn.Linear(320, 3)\n",
        "\n",
        "    def forward(self, x):\n",
        "        x = self.fc1(x)\n",
        "        x = torch.relu(self.fc2(x))\n",
        "        x = self.fc3(x)\n",
        "        return x\n",
        "\n",
        "model = NeuralNet()\n",
        "\n",
        "# Defina a função de perda (loss function) como CrossEntropyLoss e o otimizador como Adam\n",
        "criterion = nn.CrossEntropyLoss()\n",
        "optimizer = optim.Adam(model.parameters(), lr=0.001)"
      ],
      "metadata": {
        "id": "PI2n_72m6fUw"
      },
      "execution_count": 102,
      "outputs": []
    },
    {
      "cell_type": "code",
      "source": [
        "\n",
        "# class Classifier(nn.Module):\n",
        "\n",
        "#       def __init__(self):\n",
        "\n",
        "#           super().__init__()\n",
        "#           self.fc1 = nn.Linear(784,256)\n",
        "#           self.fc2 = nn.Linear(256,128)\n",
        "#           self.fc3 = nn.Linear(128,64)\n",
        "#           self.fc4 = nn.Linear(64,10)\n",
        "#           self.dropout = nn.Dropout(0.2)\n",
        "\n",
        "#       def forward(self,x):\n",
        "\n",
        "#           x = x.view(x.shape[0],-1)\n",
        "#           x = self.dropout(F.relu(self.fc1(x))) \n",
        "#           x = self.dropout(F.relu(self.fc2(x)))   \n",
        "#           x = self.dropout(F.relu(self.fc3(x)))  \n",
        "#           x = F.log_softmax(self.fc4(x))   \n",
        "\n",
        "#           return x"
      ],
      "metadata": {
        "id": "0k4bqNK7zrDo"
      },
      "execution_count": 103,
      "outputs": []
    },
    {
      "cell_type": "code",
      "source": [
        "# Mova o modelo para a GPU, se disponível, para acelerar o treinamento.\n",
        "device = torch.device(\"cuda\" if torch.cuda.is_available() else \"cpu\")\n",
        "model.to(device)\n",
        "\n",
        "# Execute o treinamento do modelo por um número específico de épocas, \n",
        "# calculando a perda média ao longo das iterações de treinamento.\n",
        "num_epochs = 40\n",
        "train_losses = []\n",
        "val_losses = []\n",
        "\n",
        "for epoch in range(num_epochs):\n",
        "    running_loss = 0.0\n",
        "    val_loss = 0.0\n",
        "    for features, popularity in train_loader:\n",
        "        features = features.to(device)\n",
        "        popularity = (popularity.to(device)).long()\n",
        "        \n",
        "        optimizer.zero_grad()\n",
        "        \n",
        "        outputs = model(features)\n",
        "        loss = criterion(outputs, popularity)\n",
        "        loss.backward()\n",
        "        optimizer.step()\n",
        "        \n",
        "        running_loss += loss.item()\n",
        "        val_loss += loss.item() \n",
        "\n",
        "        loss= running_loss/len(train_loader)\n",
        "        val_loss= val_loss/len(val_loader)\n",
        "        \n",
        "        train_losses.append(loss)\n",
        "        val_losses.append(val_loss)\n",
        "    \n",
        "    print(f\"Epoch {epoch+1},     Perda no Treinamento: {loss:.4f},     Perda na validação: {val_loss:.4f}\")"
      ],
      "metadata": {
        "colab": {
          "base_uri": "https://localhost:8080/"
        },
        "id": "wzTkBQLD-F73",
        "outputId": "9b61aa54-4267-4655-e816-52bce41e9485"
      },
      "execution_count": 104,
      "outputs": [
        {
          "output_type": "stream",
          "name": "stdout",
          "text": [
            "Epoch 1,     Perda no Treinamento: 14.1893,     Perda na validação: 2.2743\n",
            "Epoch 2,     Perda no Treinamento: 2.0054,     Perda na validação: 0.6522\n",
            "Epoch 3,     Perda no Treinamento: 1.0415,     Perda na validação: 0.2625\n",
            "Epoch 4,     Perda no Treinamento: 0.8540,     Perda na validação: 0.1809\n",
            "Epoch 5,     Perda no Treinamento: 1.0488,     Perda na validação: 0.3349\n",
            "Epoch 6,     Perda no Treinamento: 0.8612,     Perda na validação: 0.2923\n",
            "Epoch 7,     Perda no Treinamento: 0.8220,     Perda na validação: 0.1965\n",
            "Epoch 8,     Perda no Treinamento: 0.9746,     Perda na validação: 0.3155\n",
            "Epoch 9,     Perda no Treinamento: 0.8286,     Perda na validação: 0.1349\n",
            "Epoch 10,     Perda no Treinamento: 0.8672,     Perda na validação: 0.4828\n",
            "Epoch 11,     Perda no Treinamento: 0.8667,     Perda na validação: 0.4407\n",
            "Epoch 12,     Perda no Treinamento: 0.9494,     Perda na validação: 0.4070\n",
            "Epoch 13,     Perda no Treinamento: 0.9986,     Perda na validação: 0.2107\n",
            "Epoch 14,     Perda no Treinamento: 0.8641,     Perda na validação: 0.2272\n",
            "Epoch 15,     Perda no Treinamento: 0.8047,     Perda na validação: 0.3083\n",
            "Epoch 16,     Perda no Treinamento: 0.8249,     Perda na validação: 0.3801\n",
            "Epoch 17,     Perda no Treinamento: 0.8858,     Perda na validação: 0.2199\n",
            "Epoch 18,     Perda no Treinamento: 0.7461,     Perda na validação: 0.2151\n",
            "Epoch 19,     Perda no Treinamento: 0.7760,     Perda na validação: 0.1669\n",
            "Epoch 20,     Perda no Treinamento: 0.7606,     Perda na validação: 0.2761\n",
            "Epoch 21,     Perda no Treinamento: 0.7326,     Perda na validação: 0.1982\n",
            "Epoch 22,     Perda no Treinamento: 0.7122,     Perda na validação: 0.2062\n",
            "Epoch 23,     Perda no Treinamento: 0.7199,     Perda na validação: 0.2852\n",
            "Epoch 24,     Perda no Treinamento: 0.6783,     Perda na validação: 0.1699\n",
            "Epoch 25,     Perda no Treinamento: 0.6743,     Perda na validação: 0.2400\n",
            "Epoch 26,     Perda no Treinamento: 0.7907,     Perda na validação: 0.2182\n",
            "Epoch 27,     Perda no Treinamento: 0.6944,     Perda na validação: 0.2266\n",
            "Epoch 28,     Perda no Treinamento: 0.7718,     Perda na validação: 0.2333\n",
            "Epoch 29,     Perda no Treinamento: 0.8966,     Perda na validação: 0.1850\n",
            "Epoch 30,     Perda no Treinamento: 0.7598,     Perda na validação: 0.1853\n",
            "Epoch 31,     Perda no Treinamento: 0.7996,     Perda na validação: 0.4118\n",
            "Epoch 32,     Perda no Treinamento: 0.6675,     Perda na validação: 0.2079\n",
            "Epoch 33,     Perda no Treinamento: 0.7513,     Perda na validação: 0.4334\n",
            "Epoch 34,     Perda no Treinamento: 0.7610,     Perda na validação: 0.3005\n",
            "Epoch 35,     Perda no Treinamento: 0.7508,     Perda na validação: 0.2307\n",
            "Epoch 36,     Perda no Treinamento: 0.6620,     Perda na validação: 0.2075\n",
            "Epoch 37,     Perda no Treinamento: 0.6258,     Perda na validação: 0.1641\n",
            "Epoch 38,     Perda no Treinamento: 0.6124,     Perda na validação: 0.1808\n",
            "Epoch 39,     Perda no Treinamento: 0.5907,     Perda na validação: 0.1453\n",
            "Epoch 40,     Perda no Treinamento: 0.7272,     Perda na validação: 0.3313\n"
          ]
        }
      ]
    },
    {
      "cell_type": "code",
      "source": [
        "# Avalie o desempenho do modelo nos conjuntos de validação e teste, calculando a \n",
        "# acurácia, precisão, recall e exibindo o relatório de classificação.\n",
        "\n",
        "model.eval()\n",
        "\n",
        "correct = 0\n",
        "total = 0\n",
        "with torch.no_grad():\n",
        "    for features, popularity in val_loader:\n",
        "        features = features.to(device)\n",
        "        popularity = popularity.to(device)\n",
        "        \n",
        "        outputs = model(features)\n",
        "        _, predicted = torch.max(outputs.data, 1) \n",
        "        total += popularity.size(0)\n",
        "        correct += (predicted == popularity).sum().item()\n",
        "\n",
        "accuracy = 100 * correct / total\n",
        "print(f\"Validation Accuracy: {accuracy:.2f}%\")\n",
        "\n",
        "# **Test (Hold-Out)\n",
        "\n",
        "model.eval()\n",
        "\n",
        "correct = 0\n",
        "total = 0\n",
        "predicted_labels = []\n",
        "true_labels = []\n",
        "\n",
        "with torch.no_grad():\n",
        "    for features, popularity in test_loader:\n",
        "        features = features.to(device)\n",
        "        popularity = popularity.to(device)\n",
        "\n",
        "        outputs = model(features)\n",
        "        _, predicted = torch.max(outputs.data, 1)\n",
        "        predicted_labels.extend(predicted.cpu().numpy())  \n",
        "        true_labels.extend(popularity.cpu().numpy())  \n",
        "\n",
        "        total += popularity.size(0)\n",
        "        correct += (predicted == popularity).sum().item()\n",
        "\n",
        "accuracy = 100 * correct / total\n",
        "print(f\"Test Accuracy: {accuracy:.2f}%\")\n",
        "\n",
        "# Calculando precision and recall\n",
        "precision = 100*precision_score(true_labels, predicted_labels, average='weighted')\n",
        "recall = 100*recall_score(true_labels, predicted_labels, average='weighted')\n",
        "\n",
        "print(f\"Precision: {precision:.2f}%\")\n",
        "print(f\"Recall: {recall:.2f}%\")\n",
        "\n",
        "# Generando classification_report\n",
        "class_report = classification_report(true_labels, predicted_labels)\n",
        "print(\"Classification Report:\")\n",
        "print(class_report)"
      ],
      "metadata": {
        "colab": {
          "base_uri": "https://localhost:8080/"
        },
        "id": "SPOE3I-R-JxC",
        "outputId": "2b8f2d62-517c-45db-bcd4-28e442617bd8"
      },
      "execution_count": 105,
      "outputs": [
        {
          "output_type": "stream",
          "name": "stdout",
          "text": [
            "Validation Accuracy: 44.54%\n",
            "Test Accuracy: 37.45%\n",
            "Precision: 50.52%\n",
            "Recall: 37.45%\n",
            "Classification Report:\n",
            "              precision    recall  f1-score   support\n",
            "\n",
            "         0.0       0.00      0.00      0.00        31\n",
            "         1.0       0.65      0.08      0.15       284\n",
            "         2.0       0.35      0.95      0.51       163\n",
            "\n",
            "    accuracy                           0.37       478\n",
            "   macro avg       0.33      0.35      0.22       478\n",
            "weighted avg       0.51      0.37      0.26       478\n",
            "\n"
          ]
        },
        {
          "output_type": "stream",
          "name": "stderr",
          "text": [
            "/usr/local/lib/python3.10/dist-packages/sklearn/metrics/_classification.py:1344: UndefinedMetricWarning: Precision is ill-defined and being set to 0.0 in labels with no predicted samples. Use `zero_division` parameter to control this behavior.\n",
            "  _warn_prf(average, modifier, msg_start, len(result))\n",
            "/usr/local/lib/python3.10/dist-packages/sklearn/metrics/_classification.py:1344: UndefinedMetricWarning: Precision and F-score are ill-defined and being set to 0.0 in labels with no predicted samples. Use `zero_division` parameter to control this behavior.\n",
            "  _warn_prf(average, modifier, msg_start, len(result))\n",
            "/usr/local/lib/python3.10/dist-packages/sklearn/metrics/_classification.py:1344: UndefinedMetricWarning: Precision and F-score are ill-defined and being set to 0.0 in labels with no predicted samples. Use `zero_division` parameter to control this behavior.\n",
            "  _warn_prf(average, modifier, msg_start, len(result))\n",
            "/usr/local/lib/python3.10/dist-packages/sklearn/metrics/_classification.py:1344: UndefinedMetricWarning: Precision and F-score are ill-defined and being set to 0.0 in labels with no predicted samples. Use `zero_division` parameter to control this behavior.\n",
            "  _warn_prf(average, modifier, msg_start, len(result))\n"
          ]
        }
      ]
    },
    {
      "cell_type": "code",
      "source": [
        "\n",
        "plt.plot(train_losses)\n",
        "plt.plot(val_losses)\n",
        "plt.grid()\n",
        "plt.title(\"Perda no Treinamento e na Validação\")\n",
        "plt.legend([\"Perda no Treinamento\",\"Perda na Validação\"])\n",
        "plt.xlabel(\"Épocas\")\n",
        "plt.ylabel(\"Perda\")\n",
        "plt.show()\n"
      ],
      "metadata": {
        "colab": {
          "base_uri": "https://localhost:8080/",
          "height": 474
        },
        "id": "v4Y0IIXflgah",
        "outputId": "1719a3ef-0c81-4dab-ca3a-cbd4b9da69dc"
      },
      "execution_count": 106,
      "outputs": [
        {
          "output_type": "display_data",
          "data": {
            "text/plain": [
              "<Figure size 640x480 with 1 Axes>"
            ],
            "image/png": "[encoded data removed]"
          },
          "metadata": {}
        }
      ]
    },
    {
      "cell_type": "code",
      "source": [],
      "metadata": {
        "id": "gGsHiyM4yGkL"
      },
      "execution_count": 106,
      "outputs": []
    }
  ]
}